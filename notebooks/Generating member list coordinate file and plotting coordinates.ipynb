{
 "cells": [
  {
   "cell_type": "code",
   "execution_count": 17,
   "metadata": {},
   "outputs": [],
   "source": [
    "import geopy\n",
    "import folium\n",
    "import pandas as pd\n",
    "import time\n",
    "import numpy as np\n",
    "from geopy.exc import GeocoderTimedOut"
   ]
  },
  {
   "cell_type": "code",
   "execution_count": 18,
   "metadata": {},
   "outputs": [],
   "source": [
    "#replace the api_key with your own, can be registered for free at mapquest.com\n",
    "geolocator = geopy.geocoders.OpenMapQuest(api_key=\"niWwLqudLfy4UvuvoXACLzV1eA8wGCGx\")\n",
    "\n",
    "def do_geocode(address):\n",
    "    try:\n",
    "        return geolocator.geocode(address)\n",
    "    except GeocoderTimedOut:\n",
    "        time.sleep(1)\n",
    "        return do_geocode(address)"
   ]
  },
  {
   "cell_type": "code",
   "execution_count": 19,
   "metadata": {},
   "outputs": [],
   "source": [
    "#file should be stored in xlsx (Excel data)\n",
    "df = pd.read_excel(r'test_data.xlsx')\n",
    "#df.head()"
   ]
  },
  {
   "cell_type": "code",
   "execution_count": 20,
   "metadata": {},
   "outputs": [],
   "source": [
    "#iterate through the members list, appending two new columns for the \n",
    "# latitude and longitude of each member\n",
    "addresses = df['Address_Line_1']\n",
    "zipcodes = df['Zip']\n",
    "city = df['City']\n",
    "seriesLength = len(df['Zip'])\n",
    "latitudeSer = pd.Series(np.zeros(seriesLength),index=df.index)\n",
    "longitudeSer = pd.Series(np.zeros(seriesLength),index=df.index)\n",
    "#next series is to report whether the address look up failed\n",
    "goodOrBad = pd.Series(np.zeros(seriesLength,dtype=bool),index=df.index)"
   ]
  },
  {
   "cell_type": "code",
   "execution_count": 21,
   "metadata": {},
   "outputs": [],
   "source": [
    "#Do not run this each time! Only run it upon receiving a new data set\n",
    "# Otherwise, use just the map plotting tool\n",
    "\n",
    "#probably going to need to do a considerable amount of data clean up\n",
    "# 1. get rid of apartment numbers\n",
    "# get rid of drive, street, et cetera\n",
    "for j, address in enumerate(addresses):\n",
    "    #do some text processing first\n",
    "    #only take string to comma, avoiding apartment #s\n",
    "    if addresses[j].find(',') != -1:\n",
    "        addressNow = addresses[j][1:addresses[j].find(',')]\n",
    "    else:\n",
    "        addressNow = addresses[j]\n",
    "    addressNow = addressNow.replace(\".\", '')\n",
    "    \n",
    "    #get the location\n",
    "    time.sleep(1.0)\n",
    "    location = do_geocode(addressNow + ' ' + zipcodes[j])\n",
    "    if location == None:\n",
    "        #try adding the city\n",
    "        newAddress = addressNow + ' ' + city[j] + ' ' + zipcodes[j]\n",
    "        time.sleep(1.0)\n",
    "        location = do_geocode(newAddress)\n",
    "        if location == None:\n",
    "            #FAILED, set to center of Ann Arbor\n",
    "            goodOrBad[j] = 0;\n",
    "            location = do_geocode('Ann Arbor, MI')\n",
    "        else:\n",
    "            goodOrBad[j] = 1;\n",
    "            locationCoords = (location.latitude, location.longitude)\n",
    "    else:\n",
    "        goodOrBad[j] = 1;\n",
    "        locationCoords = (location.latitude, location.longitude)\n",
    "    #print(addressNow + ' ' + zipcodes[j] + str(locationCoords))\n",
    "    latitudeSer[j] = location.latitude\n",
    "    longitudeSer[j] = location.longitude\n",
    "df['latitude'] = latitudeSer\n",
    "df['longitude'] = longitudeSer\n",
    "df['goodOrBad'] = goodOrBad"
   ]
  },
  {
   "cell_type": "code",
   "execution_count": 22,
   "metadata": {},
   "outputs": [],
   "source": [
    "df.head()\n",
    "#export the data to a .xlsx file\n",
    "df.to_excel('MembersListWithCoords.xlsx')"
   ]
  },
  {
   "cell_type": "code",
   "execution_count": 24,
   "metadata": {},
   "outputs": [],
   "source": [
    "#define the map here, add the latitude and longitude points, with names and addresses\n",
    "#only plot out the points that are TRUE in goodOrBad column\n",
    "AnnArborCoords = do_geocode('Ann Arbor, MI')\n",
    "m = folium.Map(location=[AnnArborCoords.latitude, AnnArborCoords.longitude])\n",
    "\n",
    "validation = df['goodOrBad']\n",
    "#add a circle for each point in the members list\n",
    "for j, address in enumerate(df['Address_Line_1']):\n",
    "      if validation[j] == True:\n",
    "            #could be modified to include phone number\n",
    "            toPrint = df['first_name'][j] + ' ' + df['last_name'][j] \n",
    "            folium.CircleMarker(\n",
    "            popup=toPrint,\n",
    "            radius=3,\n",
    "            location=(df['latitude'][j], df['longitude'][j]),\n",
    "            color = '#ff0000',\n",
    "            fill=True,\n",
    "            fill_color = \"#ff0000#\"\n",
    "            ).add_to(m)\n",
    "m"
   ]
  },
  {
   "cell_type": "code",
   "execution_count": null,
   "metadata": {},
   "outputs": [],
   "source": []
  }
 ],
 "metadata": {
  "kernelspec": {
   "display_name": "Python 3",
   "language": "python",
   "name": "python3"
  },
  "language_info": {
   "codemirror_mode": {
    "name": "ipython",
    "version": 3
   },
   "file_extension": ".py",
   "mimetype": "text/x-python",
   "name": "python",
   "nbconvert_exporter": "python",
   "pygments_lexer": "ipython3",
   "version": "3.7.1"
  }
 },
 "nbformat": 4,
 "nbformat_minor": 2
}
