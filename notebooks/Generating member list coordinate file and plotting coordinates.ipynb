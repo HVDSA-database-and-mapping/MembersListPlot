{
 "cells": [
  {
   "cell_type": "code",
   "execution_count": 83,
   "metadata": {},
   "outputs": [],
   "source": [
    "import geopy\n",
    "import folium\n",
    "import pandas as pd\n",
    "import time\n",
    "import numpy as np"
   ]
  },
  {
   "cell_type": "code",
   "execution_count": 3,
   "metadata": {},
   "outputs": [],
   "source": [
    "#replace the api_key with your own, can be registered for free at mapquest.com\n",
    "geolocator = geopy.geocoders.OpenMapQuest(api_key=\"niWwLqudLfy4UvuvoXACLzV1eA8wGCGx\")"
   ]
  },
  {
   "cell_type": "code",
   "execution_count": 6,
   "metadata": {},
   "outputs": [
    {
     "data": {
      "text/html": [
       "<div>\n",
       "<style scoped>\n",
       "    .dataframe tbody tr th:only-of-type {\n",
       "        vertical-align: middle;\n",
       "    }\n",
       "\n",
       "    .dataframe tbody tr th {\n",
       "        vertical-align: top;\n",
       "    }\n",
       "\n",
       "    .dataframe thead th {\n",
       "        text-align: right;\n",
       "    }\n",
       "</style>\n",
       "<table border=\"1\" class=\"dataframe\">\n",
       "  <thead>\n",
       "    <tr style=\"text-align: right;\">\n",
       "      <th></th>\n",
       "      <th>first_name</th>\n",
       "      <th>last_name</th>\n",
       "      <th>Address_Line_1</th>\n",
       "      <th>Addr-2</th>\n",
       "      <th>City</th>\n",
       "      <th>Zip</th>\n",
       "    </tr>\n",
       "  </thead>\n",
       "  <tbody>\n",
       "    <tr>\n",
       "      <th>0</th>\n",
       "      <td>Ayman</td>\n",
       "      <td>Khafagi</td>\n",
       "      <td>913 Fairway Park Dr</td>\n",
       "      <td>NaN</td>\n",
       "      <td>Ann Arbor</td>\n",
       "      <td>48103-8965</td>\n",
       "    </tr>\n",
       "    <tr>\n",
       "      <th>1</th>\n",
       "      <td>Howard</td>\n",
       "      <td>Lerner</td>\n",
       "      <td>555 E. William St, #20L</td>\n",
       "      <td>NaN</td>\n",
       "      <td>Ann Arbor</td>\n",
       "      <td>48104-2427</td>\n",
       "    </tr>\n",
       "    <tr>\n",
       "      <th>2</th>\n",
       "      <td>Eric</td>\n",
       "      <td>Ferguson</td>\n",
       "      <td>3217 Homestead Commons Dr, Apt 7</td>\n",
       "      <td>NaN</td>\n",
       "      <td>Ann Arbor</td>\n",
       "      <td>48108-3206</td>\n",
       "    </tr>\n",
       "    <tr>\n",
       "      <th>3</th>\n",
       "      <td>Joshua</td>\n",
       "      <td>Richter</td>\n",
       "      <td>290 Nichols dr.</td>\n",
       "      <td>NaN</td>\n",
       "      <td>saline</td>\n",
       "      <td>48176-1019</td>\n",
       "    </tr>\n",
       "    <tr>\n",
       "      <th>4</th>\n",
       "      <td>Dawid</td>\n",
       "      <td>Kierys</td>\n",
       "      <td>1215 Hill St</td>\n",
       "      <td>NaN</td>\n",
       "      <td>Ann Arbor</td>\n",
       "      <td>48104-3127</td>\n",
       "    </tr>\n",
       "  </tbody>\n",
       "</table>\n",
       "</div>"
      ],
      "text/plain": [
       "  first_name last_name                    Address_Line_1  Addr-2       City  \\\n",
       "0      Ayman   Khafagi               913 Fairway Park Dr     NaN  Ann Arbor   \n",
       "1     Howard    Lerner           555 E. William St, #20L     NaN  Ann Arbor   \n",
       "2       Eric  Ferguson  3217 Homestead Commons Dr, Apt 7     NaN  Ann Arbor   \n",
       "3     Joshua   Richter                   290 Nichols dr.     NaN     saline   \n",
       "4      Dawid    Kierys                      1215 Hill St     NaN  Ann Arbor   \n",
       "\n",
       "          Zip  \n",
       "0  48103-8965  \n",
       "1  48104-2427  \n",
       "2  48108-3206  \n",
       "3  48176-1019  \n",
       "4  48104-3127  "
      ]
     },
     "execution_count": 6,
     "metadata": {},
     "output_type": "execute_result"
    }
   ],
   "source": [
    "#file should be stored in xlsx (Excel data)\n",
    "df = pd.read_excel(r'test_data.xlsx')\n",
    "df.head()"
   ]
  },
  {
   "cell_type": "code",
   "execution_count": 110,
   "metadata": {},
   "outputs": [],
   "source": [
    "#iterate through the members list, appending two new columns for the \n",
    "# latitude and longitude of each member\n",
    "addresses = df['Address_Line_1']\n",
    "zipcodes = df['Zip']\n",
    "city = df['City']\n",
    "seriesLength = len(df['Zip'])\n",
    "latitudeSer = pd.Series(np.zeros(seriesLength),index=df.index)\n",
    "longitudeSer = pd.Series(np.zeros(seriesLength),index=df.index)\n",
    "#next series is to report whether the address look up failed\n",
    "goodOrBad = pd.Series(np.zeros(seriesLength,dtype=bool),index=df.index)"
   ]
  },
  {
   "cell_type": "code",
   "execution_count": 111,
   "metadata": {},
   "outputs": [
    {
     "name": "stdout",
     "output_type": "stream",
     "text": [
      "913 Fairway Park Dr 48103-8965(42.272143, -83.8350055)\n",
      "55 E William St 48104-2427(42.2778784, -83.7463256)\n",
      "217 Homestead Commons Dr 48108-3206(42.24216, -83.716136)\n",
      "290 Nichols dr 48176-1019(42.24216, -83.716136)\n",
      "1215 Hill St 48104-3127(42.2718547, -83.7417714)\n"
     ]
    }
   ],
   "source": [
    "#Do not run this each time! Only run it upon receiving a new data set\n",
    "# Otherwise, use just the map plotting tool\n",
    "\n",
    "#probably going to need to do a considerable amount of data clean up\n",
    "# 1. get rid of apartment numbers\n",
    "# get rid of drive, street, et cetera\n",
    "for j, address in enumerate(addresses):\n",
    "    #do some text processing first\n",
    "    #only take string to comma, avoiding apartment #s\n",
    "    if addresses[j].find(',') != -1:\n",
    "        addressNow = addresses[j][1:addresses[j].find(',')]\n",
    "    else:\n",
    "        addressNow = addresses[j]\n",
    "    addressNow = addressNow.replace(\".\", '')\n",
    "    \n",
    "    #get the location\n",
    "    time.sleep(0.1)\n",
    "    location = geolocator.geocode(addressNow + ' ' + zipcodes[j])\n",
    "    if location == None:\n",
    "        #try adding the city\n",
    "        newAddress = addressNow + ' ' + city[j] + ' ' + zipcodes[j]\n",
    "        location = geolocator.geocode(newAddress)\n",
    "        if location == None:\n",
    "            #FAILED, set to center of Ann Arbor\n",
    "            goodOrBad[j] = 0;\n",
    "            location = geolocator.geocode('Ann Arbor, MI')\n",
    "        else:\n",
    "            goodOrBad[j] = 1;\n",
    "            locationCoords = (location.latitude, location.longitude)\n",
    "    else:\n",
    "        goodOrBad[j] = 1;\n",
    "        locationCoords = (location.latitude, location.longitude)\n",
    "    print(addressNow + ' ' + zipcodes[j] + str(locationCoords))\n",
    "    latitudeSer[j] = location.latitude\n",
    "    longitudeSer[j] = location.longitude\n",
    "df['latitude'] = latitudeSer\n",
    "df['longitude'] = longitudeSer\n",
    "df['goodOrBad'] = goodOrBad"
   ]
  },
  {
   "cell_type": "code",
   "execution_count": 133,
   "metadata": {},
   "outputs": [],
   "source": [
    "df.head()\n",
    "#export the data to a .xlsx file\n",
    "df.to_excel('MembersListWithCoords.xlsx')"
   ]
  },
  {
   "cell_type": "code",
   "execution_count": 134,
   "metadata": {},
   "outputs": [
    {
     "data": {
      "text/html": [
       "<div style=\"width:100%;\"><div style=\"position:relative;width:100%;height:0;padding-bottom:60%;\"><iframe src=\"data:text/html;charset=utf-8;base64,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\" style=\"position:absolute;width:100%;height:100%;left:0;top:0;border:none !important;\" allowfullscreen webkitallowfullscreen mozallowfullscreen></iframe></div></div>"
      ],
      "text/plain": [
       "<folium.folium.Map at 0x1f26377b780>"
      ]
     },
     "execution_count": 134,
     "metadata": {},
     "output_type": "execute_result"
    }
   ],
   "source": [
    "#define the map here, add the latitude and longitude points, with names and addresses\n",
    "#only plot out the points that are TRUE in goodOrBad column\n",
    "AnnArborCoords = geolocator.geocode('Ann Arbor, MI')\n",
    "m = folium.Map(location=[AnnArborCoords.latitude, AnnArborCoords.longitude])\n",
    "\n",
    "validation = df['goodOrBad']\n",
    "#add a circle for each point in the members list\n",
    "for j, address in enumerate(df['Address_Line_1']):\n",
    "      if validation[j] == True:\n",
    "            #could be modified to include phone number\n",
    "            toPrint = df['first_name'][j] + ' ' + df['last_name'][j] \n",
    "            folium.CircleMarker(\n",
    "            popup=toPrint,\n",
    "            radius=3,\n",
    "            location=(df['latitude'][j], df['longitude'][j]),\n",
    "            color = '#ff0000',\n",
    "            fill=True,\n",
    "            fill_color = \"#ff0000#\"\n",
    "            ).add_to(m)\n",
    "m"
   ]
  },
  {
   "cell_type": "code",
   "execution_count": null,
   "metadata": {},
   "outputs": [],
   "source": []
  }
 ],
 "metadata": {
  "kernelspec": {
   "display_name": "Python 3",
   "language": "python",
   "name": "python3"
  },
  "language_info": {
   "codemirror_mode": {
    "name": "ipython",
    "version": 3
   },
   "file_extension": ".py",
   "mimetype": "text/x-python",
   "name": "python",
   "nbconvert_exporter": "python",
   "pygments_lexer": "ipython3",
   "version": "3.7.1"
  }
 },
 "nbformat": 4,
 "nbformat_minor": 2
}
